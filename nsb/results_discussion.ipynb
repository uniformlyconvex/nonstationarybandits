{
 "cells": [
  {
   "cell_type": "code",
   "execution_count": null,
   "metadata": {},
   "outputs": [],
   "source": [
    "from nsb.experiments.sanity_checks import *\n",
    "from nsb.experiments.break_ts import *\n",
    "from nsb.experiments.base import Experiments\n",
    "from nsb.plotting.plotting import plot_experiment\n",
    "from nsb.utils import disable_warnings\n",
    "\n",
    "\n",
    "def main():\n",
    "    disable_warnings()\n",
    "\n",
    "    for experiment in Experiments.REGISTRY:\n",
    "        plot_experiment(experiment)\n",
    "\n",
    "print()\n",
    "\n",
    "main()"
   ]
  }
 ],
 "metadata": {
  "kernelspec": {
   "display_name": "nsb-LyxuXADv-py3.10",
   "language": "python",
   "name": "python3"
  },
  "language_info": {
   "codemirror_mode": {
    "name": "ipython",
    "version": 3
   },
   "file_extension": ".py",
   "mimetype": "text/x-python",
   "name": "python",
   "nbconvert_exporter": "python",
   "pygments_lexer": "ipython3",
   "version": "3.10.12"
  }
 },
 "nbformat": 4,
 "nbformat_minor": 2
}
